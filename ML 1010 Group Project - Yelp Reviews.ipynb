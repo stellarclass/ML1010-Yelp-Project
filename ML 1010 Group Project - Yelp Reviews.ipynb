{
 "cells": [
  {
   "cell_type": "markdown",
   "metadata": {},
   "source": [
    "# ML 1010  Group Project - Yelp Reviews\n"
   ]
  },
  {
   "cell_type": "markdown",
   "metadata": {},
   "source": [
    "Our group, Machine Learning Pokémon, consists of 5 members: Durai Nachiappan, Iman Lau, Lijuan Yang, Mohammad Islam, Shabeeth Syed.\n",
    "\n",
    "Our Jupyter Notebooks and code are available at: https://github.com/stellarclass/ML1010-Yelp-Project\n",
    "\n",
    "Our project uses data from [Yelp](https://www.yelp.com), an online review site where users can rate various businesses. Most often, it is used for restaurants, although any business can be rated, from hotels to doctors. Yelp is widely used in North America but is available in numerous countries worldwide. This data is available [through Kaggle](https://www.kaggle.com/yelp-dataset/yelp-dataset), provided by Yelp.\n",
    "\n",
    "Using natural language processing, we can take a large amount of unstructured review data and gather insights from the reviews. If one were to open a business in the city of Toronto, it would be useful to know what reviews tend to talk about. This would let a business owner know what to focus on when creating and running their business. To do this, we propose to use topic modelling. As the name implies, this abstracts topics from the corpus, which are a starting point to understanding what a large amount of people are saying about businesses in the city. We also will perform some sentiment analysis to understand if the reviews are generally positive or negative, especially when related to the star ratings.\n",
    "\n",
    "With that in mind, for our mid-term project proposal, we are submitting initial Jupyter notebooks containing some feature engineering and the start of topic modelling. We used a smaller dataset, consisting of 10,000 rows of data, to start with as well. This is because we want to look only at Toronto data for the final submission, so we can have a more targeted view of what is happening in the reviews. For the mid-term project proposal, we are also including some initial code that filters the data for reviews in Toronto.\n",
    "\n",
    "For the final project, we will use more modelling techniques and explore an ensemble method of topic modelling and sentiment analysis. We will also look into modelling over time, as it would be useful to see if there has been a change in what reviewers like to talk about. This is important because opening a new business relies on being able to anticipate the needs and wants of reviewers and customers, so relying too heavily on past data without considering how it changes over time would be short-sighted. "
   ]
  }
 ],
 "metadata": {
  "kernelspec": {
   "display_name": "Python 3",
   "language": "python",
   "name": "python3"
  },
  "language_info": {
   "codemirror_mode": {
    "name": "ipython",
    "version": 3
   },
   "file_extension": ".py",
   "mimetype": "text/x-python",
   "name": "python",
   "nbconvert_exporter": "python",
   "pygments_lexer": "ipython3",
   "version": "3.7.0"
  }
 },
 "nbformat": 4,
 "nbformat_minor": 2
}
