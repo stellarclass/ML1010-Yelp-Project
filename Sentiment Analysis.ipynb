{
 "cells": [
  {
   "cell_type": "code",
   "execution_count": 42,
   "metadata": {
    "collapsed": false
   },
   "outputs": [
    {
     "name": "stderr",
     "output_type": "stream",
     "text": [
      "/home/iman_lau/anaconda3/lib/python3.5/site-packages/sklearn/ensemble/weight_boosting.py:29: DeprecationWarning: numpy.core.umath_tests is an internal NumPy module and should not be imported. It will be removed in a future NumPy release.\n",
      "  from numpy.core.umath_tests import inner1d\n"
     ]
    }
   ],
   "source": [
    "#import packages\n",
    "\n",
    "import pandas as pd\n",
    "import numpy as np\n",
    "import matplotlib.pyplot as plt\n",
    "\n",
    "from io import StringIO\n",
    "from collections import Counter\n",
    "from keras.preprocessing.sequence import pad_sequences\n",
    "from sklearn.feature_extraction.text import CountVectorizer\n",
    "from sklearn.model_selection import train_test_split\n",
    "\n",
    "from sklearn import model_selection, preprocessing, linear_model, naive_bayes, metrics, svm, ensemble\n",
    "\n",
    "from sklearn.linear_model import SGDClassifier\n",
    "\n",
    "from sklearn.datasets import make_classification\n",
    "\n",
    "from sklearn.metrics import accuracy_score, f1_score, precision_score, recall_score, classification_report, confusion_matrix\n",
    "\n",
    "import re\n",
    "import nltk\n",
    "\n",
    "%matplotlib inline"
   ]
  },
  {
   "cell_type": "code",
   "execution_count": 2,
   "metadata": {
    "collapsed": false
   },
   "outputs": [
    {
     "name": "stdout",
     "output_type": "stream",
     "text": [
      "          address                                         attributes  \\\n",
      "0  631 Bloor St W  {'BusinessParking': \"{'garage': False, 'street...   \n",
      "1  631 Bloor St W  {'BusinessParking': \"{'garage': False, 'street...   \n",
      "2  631 Bloor St W  {'BusinessParking': \"{'garage': False, 'street...   \n",
      "3  631 Bloor St W  {'BusinessParking': \"{'garage': False, 'street...   \n",
      "4  631 Bloor St W  {'BusinessParking': \"{'garage': False, 'street...   \n",
      "\n",
      "              business_id      categories     city hours  is_open   latitude  \\\n",
      "0  9A2quhZLyWk0akUetBd8hQ  Food, Bakeries  Toronto   NaN        0  43.664378   \n",
      "1  9A2quhZLyWk0akUetBd8hQ  Food, Bakeries  Toronto   NaN        0  43.664378   \n",
      "2  9A2quhZLyWk0akUetBd8hQ  Food, Bakeries  Toronto   NaN        0  43.664378   \n",
      "3  9A2quhZLyWk0akUetBd8hQ  Food, Bakeries  Toronto   NaN        0  43.664378   \n",
      "4  9A2quhZLyWk0akUetBd8hQ  Food, Bakeries  Toronto   NaN        0  43.664378   \n",
      "\n",
      "   longitude            name           ...           stars_x state  cool  \\\n",
      "0 -79.414424  Bnc Cake House           ...               4.0    ON     5   \n",
      "1 -79.414424  Bnc Cake House           ...               4.0    ON     1   \n",
      "2 -79.414424  Bnc Cake House           ...               4.0    ON     0   \n",
      "3 -79.414424  Bnc Cake House           ...               4.0    ON     2   \n",
      "4 -79.414424  Bnc Cake House           ...               4.0    ON     0   \n",
      "\n",
      "         date funny               review_id stars_y  \\\n",
      "0  2009-07-30     5  EeMl58L8N2mWmwjLg09IcQ       5   \n",
      "1  2013-08-02     1  gopANOnehicgh_dAWVoxyA       5   \n",
      "2  2014-06-21     0  PUQYyEXwrpqjtmpG6vIU1g       3   \n",
      "3  2011-07-22     2  LIqVjPT-DiLsPv4U1l6Wcw       3   \n",
      "4  2011-08-13     0  0rU5CA1bDy15_feU7D-WMw       5   \n",
      "\n",
      "                                                text useful  \\\n",
      "0  Hallelujah! I FINALLY FOUND IT! The frozen yog...      5   \n",
      "1  I drop by BnC on a weekly basis to pick up my ...      1   \n",
      "2  My personally experience here wasn't the best,...      0   \n",
      "3  37 °C = 98.6°F\\r\\nKoreatown establisments disp...      2   \n",
      "4  My husband & I visited Toronto from the U.S. f...      0   \n",
      "\n",
      "                  user_id  \n",
      "0  Tj-6FX0ZnqHEZYO9iFSD4w  \n",
      "1  7OURjtceW40mhpRX9P2dDg  \n",
      "2  qQ4bfJmrfK0iWCZjl8cavQ  \n",
      "3  Wu0yySWcHQ5tZ_59HNiamg  \n",
      "4  UoCtS7YT00XyZtfDi9ZW7A  \n",
      "\n",
      "[5 rows x 23 columns]\n"
     ]
    }
   ],
   "source": [
    "#load in corpus\n",
    "\n",
    "df = pd.read_csv('data/subset.csv')\n",
    "\n",
    "# take a peek at the data\n",
    "print(df.head())\n"
   ]
  },
  {
   "cell_type": "code",
   "execution_count": 25,
   "metadata": {
    "collapsed": false
   },
   "outputs": [
    {
     "data": {
      "image/png": "[encoded data removed]",
      "text/plain": [
       "<Figure size 800x600 with 1 Axes>"
      ]
     },
     "metadata": {},
     "output_type": "display_data"
    }
   ],
   "source": [
    "#distribution of restaurant ratings\n",
    "fig = plt.figure(figsize=(8,6))\n",
    "df.groupby('stars_x').business_id.count().plot.bar(ylim=0)\n",
    "plt.show()"
   ]
  },
  {
   "cell_type": "code",
   "execution_count": 24,
   "metadata": {
    "collapsed": false
   },
   "outputs": [
    {
     "data": {
      "image/png": "[encoded data removed]",
      "text/plain": [
       "<Figure size 800x600 with 1 Axes>"
      ]
     },
     "metadata": {},
     "output_type": "display_data"
    }
   ],
   "source": [
    "#distribution of reviews\n",
    "fig = plt.figure(figsize=(8,6))\n",
    "df.groupby('stars_y').text.count().plot.bar(ylim=0)\n",
    "plt.show()"
   ]
  },
  {
   "cell_type": "code",
   "execution_count": 4,
   "metadata": {
    "collapsed": false
   },
   "outputs": [],
   "source": [
    "# normalize function\n",
    "\n",
    "wpt = nltk.WordPunctTokenizer()\n",
    "stop_words = nltk.corpus.stopwords.words('english')\n",
    "\n",
    "def normalize_document(doc):\n",
    "    # lower case and remove special characters\\whitespaces\n",
    "    #doc = re.sub(r'[^a-zA-Z\\s]', '', doc, re.I)\n",
    "    doc = re.sub(r'[^a-zA-Z0-9\\s]', '', doc, re.I)\n",
    "    doc = doc.lower()\n",
    "    doc = doc.strip()\n",
    "    # tokenize document\n",
    "    tokens = wpt.tokenize(doc)\n",
    "    # filter stopwords out of document\n",
    "    filtered_tokens = [token for token in tokens if token not in stop_words]\n",
    "    # re-create document from filtered tokens\n",
    "    doc = ' '.join(filtered_tokens)\n",
    "    doc = ''.join(i for i in doc if not i.isdigit())\n",
    "    return doc\n",
    "\n",
    "normalize_corpus = np.vectorize(normalize_document)"
   ]
  },
  {
   "cell_type": "code",
   "execution_count": 5,
   "metadata": {
    "collapsed": false
   },
   "outputs": [
    {
     "data": {
      "text/html": [
       "<div>\n",
       "<style scoped>\n",
       "    .dataframe tbody tr th:only-of-type {\n",
       "        vertical-align: middle;\n",
       "    }\n",
       "\n",
       "    .dataframe tbody tr th {\n",
       "        vertical-align: top;\n",
       "    }\n",
       "\n",
       "    .dataframe thead th {\n",
       "        text-align: right;\n",
       "    }\n",
       "</style>\n",
       "<table border=\"1\" class=\"dataframe\">\n",
       "  <thead>\n",
       "    <tr style=\"text-align: right;\">\n",
       "      <th></th>\n",
       "      <th>stars_y</th>\n",
       "      <th>text</th>\n",
       "    </tr>\n",
       "  </thead>\n",
       "  <tbody>\n",
       "    <tr>\n",
       "      <th>0</th>\n",
       "      <td>5</td>\n",
       "      <td>Hallelujah! I FINALLY FOUND IT! The frozen yog...</td>\n",
       "    </tr>\n",
       "    <tr>\n",
       "      <th>1</th>\n",
       "      <td>5</td>\n",
       "      <td>I drop by BnC on a weekly basis to pick up my ...</td>\n",
       "    </tr>\n",
       "    <tr>\n",
       "      <th>2</th>\n",
       "      <td>3</td>\n",
       "      <td>My personally experience here wasn't the best,...</td>\n",
       "    </tr>\n",
       "    <tr>\n",
       "      <th>3</th>\n",
       "      <td>3</td>\n",
       "      <td>37 °C = 98.6°F\\r\\nKoreatown establisments disp...</td>\n",
       "    </tr>\n",
       "    <tr>\n",
       "      <th>4</th>\n",
       "      <td>5</td>\n",
       "      <td>My husband &amp; I visited Toronto from the U.S. f...</td>\n",
       "    </tr>\n",
       "  </tbody>\n",
       "</table>\n",
       "</div>"
      ],
      "text/plain": [
       "   stars_y                                               text\n",
       "0        5  Hallelujah! I FINALLY FOUND IT! The frozen yog...\n",
       "1        5  I drop by BnC on a weekly basis to pick up my ...\n",
       "2        3  My personally experience here wasn't the best,...\n",
       "3        3  37 °C = 98.6°F\\r\\nKoreatown establisments disp...\n",
       "4        5  My husband & I visited Toronto from the U.S. f..."
      ]
     },
     "execution_count": 5,
     "metadata": {},
     "output_type": "execute_result"
    }
   ],
   "source": [
    "# new dataframe of just reviews and star ratings\n",
    "\n",
    "col = ['stars_y', 'text']\n",
    "df = df[col]\n",
    "df = df[pd.notnull(df['text'])]\n",
    "\n",
    "df.columns = ['stars_y', 'text']\n",
    "\n",
    "df.head()"
   ]
  },
  {
   "cell_type": "code",
   "execution_count": 6,
   "metadata": {
    "collapsed": false
   },
   "outputs": [
    {
     "data": {
      "text/plain": [
       "array([\"hallelujah finally found frozen yogurt launched red mango pinkberry craze states . ( google .) canadian incarnation goes name yogoberri discovered inside tiny korean bakery along bloor street ' k - town . uninitiated , frozen yogurt tart less sweet tcby kind . plain vanilla yogurt ' toppings ; fresh fruit , nuts , cereal ... weird - looking powders never tried . small (  oz .) $  .  +  cents per topping . medium (  oz .) including three toppings $  .  . used eat frozen yogurt time lived korea practically weeping joy reunited today . shameless plea : go eat lots chain multiply open branch near home . thanks ! ( fyi ,  stars yogurt . ' tried anything else bakery .) ** eta : dear fro yo gods , thanks opening blushberry closer home . xoxo , susan c .**\",\n",
       "       \"drop bnc weekly basis pick favourite buns korean bread go mid afternoon good popular buns sold . also cakes - best green tea cake . tried bing - soo , dessert ice shavings , milk , red bean fruits . ' simply amazing perfect summer . ' must try !\",\n",
       "       'personally experience wasnt best drink watered , tapioca bubble tea little harden . people working friendly nice , decently quiet atmosphere . good place come sit chill chatting away friends .',\n",
       "       ...,\n",
       "       'good place get fresh quick indian food places serve authentic indian reasonable price fast service however , would like suggest couple things  . chola poori combo - poori less quantity mix veg chana masala good , serve bigger poori  pooris  . butter chicken spicy chicken combo okay . give quantity sauce rice .  . tried new introductory dish chicken biryani flavoured meat rice . would suggest increase quantity rice give . $  .  get sufficient amount rice fill . tandoori chicken looks yummy , going try next time . overall , good place quick delicious treat . would go back .',\n",
       "       'really quiet pm say , place new ( name signs previous place still ) getting pm lunch , \\' really fair give   star review . first , get rid name / signs anything shows \\' previous shawarma place , door stopped going . thought wrong place . second , chime bell something let know someone came place . walked peek kitchen / prep area , guy \\' know someone . third , seems serve chicken veg . \\' seems meat . guess \\' alright , people like chicken ... oh fish ! seems place . services ... weird , ordered meal combo ($  .  ) picture see , mix salad , piece papadum , rice green pea , potato veg , meat sauce , sweet . ask choose chicken , spicy one butter chicken main . rice \\' anything green . salad given explain ran . papadum . sweet , right beside stove , server ask \" want sweets ?\" twice reply yes yes , put box top rice . item shown menu , included , \\' explain find something substitue . samosa added without asking wanted , weird , hole inthe middle , try check see filling done , thought samosa made cooked fillings ? may really caught guard . may really good normal lunch hours . review benefit doubt goes toward place . back another lunch , hopefully inthe regular lunch hours .',\n",
       "       'little bit pricy based quality food ok dessert tastes really wired'],\n",
       "      dtype='<U4692')"
      ]
     },
     "execution_count": 6,
     "metadata": {},
     "output_type": "execute_result"
    }
   ],
   "source": [
    "# normalize corpus \n",
    "\n",
    "norm_df = normalize_corpus(df['text'])\n",
    "norm_df"
   ]
  },
  {
   "cell_type": "code",
   "execution_count": 26,
   "metadata": {
    "collapsed": false
   },
   "outputs": [],
   "source": [
    "header = [\"stars_y\"]\n",
    "df.to_csv('output.csv', columns = header, index = False)"
   ]
  },
  {
   "cell_type": "code",
   "execution_count": 7,
   "metadata": {
    "collapsed": false
   },
   "outputs": [
    {
     "data": {
      "text/plain": [
       "(706731, 9682018)"
      ]
     },
     "execution_count": 7,
     "metadata": {},
     "output_type": "execute_result"
    }
   ],
   "source": [
    "cv = CountVectorizer(binary=False, min_df=0.0, max_df=1.0, ngram_range=(1,2))\n",
    "features = cv.fit_transform(norm_df)\n",
    "\n",
    "features.shape"
   ]
  },
  {
   "cell_type": "code",
   "execution_count": 35,
   "metadata": {
    "collapsed": false
   },
   "outputs": [],
   "source": [
    "# binarize reviews\n",
    "df['stars'] = (df['stars_y'] > 3).astype(int)\n",
    "\n",
    "labels = df.stars"
   ]
  },
  {
   "cell_type": "code",
   "execution_count": 36,
   "metadata": {
    "collapsed": false
   },
   "outputs": [],
   "source": [
    "# build train and test datasets\n",
    "\n",
    "X_train, X_test, y_train, y_test = train_test_split(features, labels, test_size=0.33, random_state=42)\n"
   ]
  },
  {
   "cell_type": "code",
   "execution_count": 8,
   "metadata": {
    "collapsed": false
   },
   "outputs": [],
   "source": [
    "def train_model(classifier, feature_vector_train, label, feature_vector_valid):\n",
    "    # fit the training dataset on the classifier\n",
    "    classifier.fit(feature_vector_train, label)\n",
    "    \n",
    "    # predict the labels on validation dataset\n",
    "    predictions = classifier.predict(feature_vector_valid)\n",
    "    \n",
    "    return predictions\n"
   ]
  },
  {
   "cell_type": "code",
   "execution_count": 38,
   "metadata": {
    "collapsed": false
   },
   "outputs": [
    {
     "name": "stdout",
     "output_type": "stream",
     "text": [
      "NB:\n",
      "Accuracy:  0.8496968553566988\n",
      "F1:  0.8817700428344969\n",
      "Precision:  0.8400683787049176\n",
      "Recall:  0.9278281731328876\n"
     ]
    }
   ],
   "source": [
    "# Naive Bayes\n",
    "predictions = train_model(naive_bayes.MultinomialNB(), X_train, y_train, X_test)\n",
    "\n",
    "accuracy = accuracy_score(y_test, predictions)\n",
    "F1 = f1_score(y_test, predictions)\n",
    "precision = precision_score(y_test, predictions)\n",
    "recall = recall_score(y_test, predictions)\n",
    "\n",
    "print (\"NB:\")\n",
    "print (\"Accuracy: \", accuracy)\n",
    "print (\"F1: \", F1)\n",
    "print (\"Precision: \", precision)\n",
    "print (\"Recall: \", recall)"
   ]
  },
  {
   "cell_type": "code",
   "execution_count": 39,
   "metadata": {
    "collapsed": false
   },
   "outputs": [
    {
     "ename": "TypeError",
     "evalue": "recall_score() missing 1 required positional argument: 'y_pred'",
     "output_type": "error",
     "traceback": [
      "\u001b[1;31m---------------------------------------------------------------------------\u001b[0m",
      "\u001b[1;31mTypeError\u001b[0m                                 Traceback (most recent call last)",
      "\u001b[1;32m<ipython-input-39-6054f38f2311>\u001b[0m in \u001b[0;36m<module>\u001b[1;34m()\u001b[0m\n\u001b[0;32m      5\u001b[0m \u001b[0mF1\u001b[0m \u001b[1;33m=\u001b[0m \u001b[0mf1_score\u001b[0m\u001b[1;33m(\u001b[0m\u001b[0my_test\u001b[0m\u001b[1;33m,\u001b[0m \u001b[0mpredictions\u001b[0m\u001b[1;33m)\u001b[0m\u001b[1;33m\u001b[0m\u001b[0m\n\u001b[0;32m      6\u001b[0m \u001b[0mprecision\u001b[0m \u001b[1;33m=\u001b[0m \u001b[0mprecision_score\u001b[0m\u001b[1;33m(\u001b[0m\u001b[0my_test\u001b[0m\u001b[1;33m,\u001b[0m \u001b[0mpredictions\u001b[0m\u001b[1;33m)\u001b[0m\u001b[1;33m\u001b[0m\u001b[0m\n\u001b[1;32m----> 7\u001b[1;33m \u001b[0mrecall\u001b[0m \u001b[1;33m=\u001b[0m \u001b[0mrecall_score\u001b[0m\u001b[1;33m(\u001b[0m\u001b[1;33m(\u001b[0m\u001b[0my_test\u001b[0m\u001b[1;33m,\u001b[0m \u001b[0mpredictions\u001b[0m\u001b[1;33m)\u001b[0m\u001b[1;33m)\u001b[0m\u001b[1;33m\u001b[0m\u001b[0m\n\u001b[0m\u001b[0;32m      8\u001b[0m \u001b[1;33m\u001b[0m\u001b[0m\n\u001b[0;32m      9\u001b[0m \u001b[0mprint\u001b[0m \u001b[1;33m(\u001b[0m\u001b[1;34m\"LR:\"\u001b[0m\u001b[1;33m)\u001b[0m\u001b[1;33m\u001b[0m\u001b[0m\n",
      "\u001b[1;31mTypeError\u001b[0m: recall_score() missing 1 required positional argument: 'y_pred'"
     ]
    }
   ],
   "source": [
    "# Logistic Regression\n",
    "predictions = train_model(linear_model.LogisticRegression(), X_train, y_train, X_test)\n",
    "\n",
    "accuracy = accuracy_score(y_test, predictions)\n",
    "F1 = f1_score(y_test, predictions)\n",
    "precision = precision_score(y_test, predictions)\n"
   ]
  },
  {
   "cell_type": "code",
   "execution_count": 40,
   "metadata": {
    "collapsed": false
   },
   "outputs": [
    {
     "name": "stdout",
     "output_type": "stream",
     "text": [
      "LG:\n",
      "Accuracy:  0.8749003095762835\n",
      "F1:  0.8980316501705531\n",
      "Precision:  0.8845650707095744\n",
      "Recall:  0.9119145976179323\n"
     ]
    }
   ],
   "source": [
    "\n",
    "recall = recall_score(y_test, predictions)\n",
    "\n",
    "print (\"LG:\")\n",
    "print (\"Accuracy: \", accuracy)\n",
    "print (\"F1: \", F1)\n",
    "print (\"Precision: \", precision)\n",
    "print (\"Recall: \", recall)"
   ]
  },
  {
   "cell_type": "code",
   "execution_count": null,
   "metadata": {
    "collapsed": false
   },
   "outputs": [],
   "source": [
    "# Random Forest\n",
    "predictions = train_model(ensemble.RandomForestClassifier(), X_train, y_train, X_test)\n",
    "\n",
    "accuracy = accuracy_score(y_test, predictions)\n",
    "F1 = f1_score(y_test, predictions)\n",
    "precision = precision_score(y_test, predictions)\n",
    "recall = recall_score(y_test, predictions)\n",
    "\n",
    "print (\"RF:\")\n",
    "print (\"Accuracy: \", accuracy)\n",
    "print (\"F1: \", F1)\n",
    "print (\"Precision: \", precision)\n",
    "print (\"Recall: \", recall)"
   ]
  },
  {
   "cell_type": "code",
   "execution_count": null,
   "metadata": {
    "collapsed": true
   },
   "outputs": [],
   "source": [
    "# Stochastic Gradient Descent\n",
    "predictions = train_model(SGDClassifier(), X_train, y_train, X_test)\n",
    "\n",
    "accuracy = accuracy_score(y_test, predictions)\n",
    "F1 = f1_score(y_test, predictions)\n",
    "precision = precision_score(y_test, predictions)\n",
    "recall = recall_score(y_test, predictions)\n",
    "\n",
    "print (\"SGD:\")\n",
    "print (\"Accuracy: \", accuracy)\n",
    "print (\"F1: \", F1)\n",
    "print (\"Precision: \", precision)\n",
    "print (\"Recall: \", recall)"
   ]
  },
  {
   "cell_type": "code",
   "execution_count": null,
   "metadata": {
    "collapsed": true
   },
   "outputs": [],
   "source": []
  }
 ],
 "metadata": {
  "kernelspec": {
   "display_name": "Python 3",
   "language": "python",
   "name": "python3"
  },
  "language_info": {
   "codemirror_mode": {
    "name": "ipython",
    "version": 3
   },
   "file_extension": ".py",
   "mimetype": "text/x-python",
   "name": "python",
   "nbconvert_exporter": "python",
   "pygments_lexer": "ipython3",
   "version": "3.5.5"
  }
 },
 "nbformat": 4,
 "nbformat_minor": 0
}
